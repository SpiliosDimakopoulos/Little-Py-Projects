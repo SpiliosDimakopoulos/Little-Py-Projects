{
 "cells": [
  {
   "cell_type": "markdown",
   "id": "500a0601",
   "metadata": {
    "papermill": {
     "duration": 0.005596,
     "end_time": "2025-01-07T23:11:52.537999",
     "exception": false,
     "start_time": "2025-01-07T23:11:52.532403",
     "status": "completed"
    },
    "tags": []
   },
   "source": [
    "**This notebook is an exercise in the [Pandas](https://www.kaggle.com/learn/pandas) course.  You can reference the tutorial at [this link](https://www.kaggle.com/residentmario/grouping-and-sorting).**\n",
    "\n",
    "---\n"
   ]
  },
  {
   "cell_type": "markdown",
   "id": "246fb3ff",
   "metadata": {
    "papermill": {
     "duration": 0.00489,
     "end_time": "2025-01-07T23:11:52.547886",
     "exception": false,
     "start_time": "2025-01-07T23:11:52.542996",
     "status": "completed"
    },
    "tags": []
   },
   "source": [
    "# Introduction\n",
    "\n",
    "In these exercises we'll apply groupwise analysis to our dataset.\n",
    "\n",
    "Run the code cell below to load the data before running the exercises."
   ]
  },
  {
   "cell_type": "code",
   "execution_count": 1,
   "id": "52974076",
   "metadata": {
    "execution": {
     "iopub.execute_input": "2025-01-07T23:11:52.559029Z",
     "iopub.status.busy": "2025-01-07T23:11:52.558620Z",
     "iopub.status.idle": "2025-01-07T23:11:56.248010Z",
     "shell.execute_reply": "2025-01-07T23:11:56.246468Z"
    },
    "papermill": {
     "duration": 3.698709,
     "end_time": "2025-01-07T23:11:56.251404",
     "exception": false,
     "start_time": "2025-01-07T23:11:52.552695",
     "status": "completed"
    },
    "tags": []
   },
   "outputs": [
    {
     "name": "stdout",
     "output_type": "stream",
     "text": [
      "Setup complete.\n"
     ]
    },
    {
     "name": "stderr",
     "output_type": "stream",
     "text": [
      "/usr/local/lib/python3.10/dist-packages/learntools/pandas/grouping_and_sorting.py:29: FutureWarning: The provided callable <built-in function min> is currently using SeriesGroupBy.min. In a future version of pandas, the provided callable will be used directly. To keep current behavior pass the string \"min\" instead.\n",
      "  _expected = reviews.groupby('variety').price.agg([min, max])\n",
      "/usr/local/lib/python3.10/dist-packages/learntools/pandas/grouping_and_sorting.py:29: FutureWarning: The provided callable <built-in function max> is currently using SeriesGroupBy.max. In a future version of pandas, the provided callable will be used directly. To keep current behavior pass the string \"max\" instead.\n",
      "  _expected = reviews.groupby('variety').price.agg([min, max])\n",
      "/usr/local/lib/python3.10/dist-packages/learntools/pandas/grouping_and_sorting.py:35: FutureWarning: The provided callable <built-in function min> is currently using SeriesGroupBy.min. In a future version of pandas, the provided callable will be used directly. To keep current behavior pass the string \"min\" instead.\n",
      "  _expected = reviews.groupby('variety').price.agg([min, max]).sort_values(by=['min', 'max'], ascending=False)\n",
      "/usr/local/lib/python3.10/dist-packages/learntools/pandas/grouping_and_sorting.py:35: FutureWarning: The provided callable <built-in function max> is currently using SeriesGroupBy.max. In a future version of pandas, the provided callable will be used directly. To keep current behavior pass the string \"max\" instead.\n",
      "  _expected = reviews.groupby('variety').price.agg([min, max]).sort_values(by=['min', 'max'], ascending=False)\n"
     ]
    }
   ],
   "source": [
    "import pandas as pd\n",
    "\n",
    "reviews = pd.read_csv(\"../input/wine-reviews/winemag-data-130k-v2.csv\", index_col=0)\n",
    "#pd.set_option(\"display.max_rows\", 5)\n",
    "\n",
    "from learntools.core import binder; binder.bind(globals())\n",
    "from learntools.pandas.grouping_and_sorting import *\n",
    "print(\"Setup complete.\")"
   ]
  },
  {
   "cell_type": "markdown",
   "id": "2923e617",
   "metadata": {
    "papermill": {
     "duration": 0.005071,
     "end_time": "2025-01-07T23:11:56.263091",
     "exception": false,
     "start_time": "2025-01-07T23:11:56.258020",
     "status": "completed"
    },
    "tags": []
   },
   "source": [
    "# Exercises"
   ]
  },
  {
   "cell_type": "markdown",
   "id": "49839cb6",
   "metadata": {
    "papermill": {
     "duration": 0.005185,
     "end_time": "2025-01-07T23:11:56.273864",
     "exception": false,
     "start_time": "2025-01-07T23:11:56.268679",
     "status": "completed"
    },
    "tags": []
   },
   "source": [
    "## 1.\n",
    "Who are the most common wine reviewers in the dataset? Create a `Series` whose index is the `taster_twitter_handle` category from the dataset, and whose values count how many reviews each person wrote."
   ]
  },
  {
   "cell_type": "code",
   "execution_count": 2,
   "id": "627fe02a",
   "metadata": {
    "execution": {
     "iopub.execute_input": "2025-01-07T23:11:56.286441Z",
     "iopub.status.busy": "2025-01-07T23:11:56.285996Z",
     "iopub.status.idle": "2025-01-07T23:11:56.313617Z",
     "shell.execute_reply": "2025-01-07T23:11:56.312303Z"
    },
    "papermill": {
     "duration": 0.036383,
     "end_time": "2025-01-07T23:11:56.315727",
     "exception": false,
     "start_time": "2025-01-07T23:11:56.279344",
     "status": "completed"
    },
    "tags": []
   },
   "outputs": [
    {
     "data": {
      "application/javascript": [
       "parent.postMessage({\"jupyterEvent\": \"custom.exercise_interaction\", \"data\": {\"outcomeType\": 1, \"valueTowardsCompletion\": 0.16666666666666666, \"interactionType\": 1, \"questionType\": 1, \"questionId\": \"1_ReviewsWritten\", \"learnToolsVersion\": \"0.3.4\", \"failureMessage\": \"\", \"exceptionClass\": \"\", \"trace\": \"\"}}, \"*\")"
      ],
      "text/plain": [
       "<IPython.core.display.Javascript object>"
      ]
     },
     "metadata": {},
     "output_type": "display_data"
    },
    {
     "data": {
      "text/markdown": [
       "<span style=\"color:#33cc33\">Correct:</span> \n",
       "\n",
       "\n",
       "```python\n",
       "reviews_written = reviews.groupby('taster_twitter_handle').size()\n",
       "```\n",
       "or\n",
       "```python\n",
       "reviews_written = reviews.groupby('taster_twitter_handle').taster_twitter_handle.count()\n",
       "```\n"
      ],
      "text/plain": [
       "Correct: \n",
       "\n",
       "\n",
       "```python\n",
       "reviews_written = reviews.groupby('taster_twitter_handle').size()\n",
       "```\n",
       "or\n",
       "```python\n",
       "reviews_written = reviews.groupby('taster_twitter_handle').taster_twitter_handle.count()\n",
       "```"
      ]
     },
     "metadata": {},
     "output_type": "display_data"
    }
   ],
   "source": [
    "reviews_written = reviews.groupby(\"taster_twitter_handle\").taster_twitter_handle.count()\n",
    "\n",
    "# Check your answer\n",
    "q1.check()"
   ]
  },
  {
   "cell_type": "code",
   "execution_count": 3,
   "id": "e19a24b8",
   "metadata": {
    "execution": {
     "iopub.execute_input": "2025-01-07T23:11:56.328724Z",
     "iopub.status.busy": "2025-01-07T23:11:56.328344Z",
     "iopub.status.idle": "2025-01-07T23:11:56.333055Z",
     "shell.execute_reply": "2025-01-07T23:11:56.331318Z"
    },
    "papermill": {
     "duration": 0.013962,
     "end_time": "2025-01-07T23:11:56.335622",
     "exception": false,
     "start_time": "2025-01-07T23:11:56.321660",
     "status": "completed"
    },
    "tags": []
   },
   "outputs": [],
   "source": [
    "#q1.hint()\n",
    "#q1.solution()"
   ]
  },
  {
   "cell_type": "markdown",
   "id": "fda5ffff",
   "metadata": {
    "papermill": {
     "duration": 0.0061,
     "end_time": "2025-01-07T23:11:56.348272",
     "exception": false,
     "start_time": "2025-01-07T23:11:56.342172",
     "status": "completed"
    },
    "tags": []
   },
   "source": [
    "## 2.\n",
    "What is the best wine I can buy for a given amount of money? Create a `Series` whose index is wine prices and whose values is the maximum number of points a wine costing that much was given in a review. Sort the values by price, ascending (so that `4.0` dollars is at the top and `3300.0` dollars is at the bottom)."
   ]
  },
  {
   "cell_type": "code",
   "execution_count": 4,
   "id": "23d3937d",
   "metadata": {
    "execution": {
     "iopub.execute_input": "2025-01-07T23:11:56.361093Z",
     "iopub.status.busy": "2025-01-07T23:11:56.360634Z",
     "iopub.status.idle": "2025-01-07T23:11:56.373398Z",
     "shell.execute_reply": "2025-01-07T23:11:56.372280Z"
    },
    "papermill": {
     "duration": 0.021415,
     "end_time": "2025-01-07T23:11:56.375448",
     "exception": false,
     "start_time": "2025-01-07T23:11:56.354033",
     "status": "completed"
    },
    "tags": []
   },
   "outputs": [
    {
     "data": {
      "application/javascript": [
       "parent.postMessage({\"jupyterEvent\": \"custom.exercise_interaction\", \"data\": {\"outcomeType\": 1, \"valueTowardsCompletion\": 0.16666666666666666, \"interactionType\": 1, \"questionType\": 1, \"questionId\": \"2_BestRatingPerPrice\", \"learnToolsVersion\": \"0.3.4\", \"failureMessage\": \"\", \"exceptionClass\": \"\", \"trace\": \"\"}}, \"*\")"
      ],
      "text/plain": [
       "<IPython.core.display.Javascript object>"
      ]
     },
     "metadata": {},
     "output_type": "display_data"
    },
    {
     "data": {
      "text/markdown": [
       "<span style=\"color:#33cc33\">Correct</span>"
      ],
      "text/plain": [
       "Correct"
      ]
     },
     "metadata": {},
     "output_type": "display_data"
    }
   ],
   "source": [
    "best_rating_per_price = reviews.groupby(\"price\")[\"points\"].max().sort_index()\n",
    "\n",
    "# Check your answer\n",
    "q2.check()"
   ]
  },
  {
   "cell_type": "code",
   "execution_count": 5,
   "id": "2c3c790d",
   "metadata": {
    "execution": {
     "iopub.execute_input": "2025-01-07T23:11:56.389008Z",
     "iopub.status.busy": "2025-01-07T23:11:56.388625Z",
     "iopub.status.idle": "2025-01-07T23:11:56.393054Z",
     "shell.execute_reply": "2025-01-07T23:11:56.391847Z"
    },
    "papermill": {
     "duration": 0.014406,
     "end_time": "2025-01-07T23:11:56.395965",
     "exception": false,
     "start_time": "2025-01-07T23:11:56.381559",
     "status": "completed"
    },
    "tags": []
   },
   "outputs": [],
   "source": [
    "#q2.hint()\n",
    "#q2.solution()"
   ]
  },
  {
   "cell_type": "markdown",
   "id": "c55353ad",
   "metadata": {
    "papermill": {
     "duration": 0.005772,
     "end_time": "2025-01-07T23:11:56.408297",
     "exception": false,
     "start_time": "2025-01-07T23:11:56.402525",
     "status": "completed"
    },
    "tags": []
   },
   "source": [
    "## 3.\n",
    "What are the minimum and maximum prices for each `variety` of wine? Create a `DataFrame` whose index is the `variety` category from the dataset and whose values are the `min` and `max` values thereof."
   ]
  },
  {
   "cell_type": "code",
   "execution_count": 6,
   "id": "577bb529",
   "metadata": {
    "execution": {
     "iopub.execute_input": "2025-01-07T23:11:56.421831Z",
     "iopub.status.busy": "2025-01-07T23:11:56.421446Z",
     "iopub.status.idle": "2025-01-07T23:11:56.446389Z",
     "shell.execute_reply": "2025-01-07T23:11:56.445058Z"
    },
    "papermill": {
     "duration": 0.033934,
     "end_time": "2025-01-07T23:11:56.448380",
     "exception": false,
     "start_time": "2025-01-07T23:11:56.414446",
     "status": "completed"
    },
    "tags": []
   },
   "outputs": [
    {
     "name": "stderr",
     "output_type": "stream",
     "text": [
      "<ipython-input-6-bd1d1dcc6a67>:1: FutureWarning: The provided callable <built-in function min> is currently using SeriesGroupBy.min. In a future version of pandas, the provided callable will be used directly. To keep current behavior pass the string \"min\" instead.\n",
      "  price_extremes = reviews.groupby(\"variety\").price.agg([min,max])\n",
      "<ipython-input-6-bd1d1dcc6a67>:1: FutureWarning: The provided callable <built-in function max> is currently using SeriesGroupBy.max. In a future version of pandas, the provided callable will be used directly. To keep current behavior pass the string \"max\" instead.\n",
      "  price_extremes = reviews.groupby(\"variety\").price.agg([min,max])\n"
     ]
    },
    {
     "data": {
      "application/javascript": [
       "parent.postMessage({\"jupyterEvent\": \"custom.exercise_interaction\", \"data\": {\"outcomeType\": 1, \"valueTowardsCompletion\": 0.16666666666666666, \"interactionType\": 1, \"questionType\": 1, \"questionId\": \"3_PriceExtremes\", \"learnToolsVersion\": \"0.3.4\", \"failureMessage\": \"\", \"exceptionClass\": \"\", \"trace\": \"\"}}, \"*\")"
      ],
      "text/plain": [
       "<IPython.core.display.Javascript object>"
      ]
     },
     "metadata": {},
     "output_type": "display_data"
    },
    {
     "data": {
      "text/markdown": [
       "<span style=\"color:#33cc33\">Correct</span>"
      ],
      "text/plain": [
       "Correct"
      ]
     },
     "metadata": {},
     "output_type": "display_data"
    }
   ],
   "source": [
    "price_extremes = reviews.groupby(\"variety\").price.agg([min,max])\n",
    "\n",
    "# Check your answer\n",
    "q3.check()"
   ]
  },
  {
   "cell_type": "code",
   "execution_count": 7,
   "id": "41d0c7c2",
   "metadata": {
    "execution": {
     "iopub.execute_input": "2025-01-07T23:11:56.462501Z",
     "iopub.status.busy": "2025-01-07T23:11:56.462086Z",
     "iopub.status.idle": "2025-01-07T23:11:56.466984Z",
     "shell.execute_reply": "2025-01-07T23:11:56.465588Z"
    },
    "papermill": {
     "duration": 0.014561,
     "end_time": "2025-01-07T23:11:56.469182",
     "exception": false,
     "start_time": "2025-01-07T23:11:56.454621",
     "status": "completed"
    },
    "tags": []
   },
   "outputs": [],
   "source": [
    "#q3.hint()\n",
    "#q3.solution()"
   ]
  },
  {
   "cell_type": "markdown",
   "id": "4cd467f0",
   "metadata": {
    "papermill": {
     "duration": 0.006199,
     "end_time": "2025-01-07T23:11:56.482084",
     "exception": false,
     "start_time": "2025-01-07T23:11:56.475885",
     "status": "completed"
    },
    "tags": []
   },
   "source": [
    "## 4.\n",
    "What are the most expensive wine varieties? Create a variable `sorted_varieties` containing a copy of the dataframe from the previous question where varieties are sorted in descending order based on minimum price, then on maximum price (to break ties)."
   ]
  },
  {
   "cell_type": "code",
   "execution_count": 8,
   "id": "2d3c9f15",
   "metadata": {
    "execution": {
     "iopub.execute_input": "2025-01-07T23:11:56.497329Z",
     "iopub.status.busy": "2025-01-07T23:11:56.496902Z",
     "iopub.status.idle": "2025-01-07T23:11:56.508522Z",
     "shell.execute_reply": "2025-01-07T23:11:56.507448Z"
    },
    "papermill": {
     "duration": 0.021302,
     "end_time": "2025-01-07T23:11:56.510484",
     "exception": false,
     "start_time": "2025-01-07T23:11:56.489182",
     "status": "completed"
    },
    "tags": []
   },
   "outputs": [
    {
     "data": {
      "application/javascript": [
       "parent.postMessage({\"jupyterEvent\": \"custom.exercise_interaction\", \"data\": {\"outcomeType\": 1, \"valueTowardsCompletion\": 0.16666666666666666, \"interactionType\": 1, \"questionType\": 1, \"questionId\": \"4_SortedVarieties\", \"learnToolsVersion\": \"0.3.4\", \"failureMessage\": \"\", \"exceptionClass\": \"\", \"trace\": \"\"}}, \"*\")"
      ],
      "text/plain": [
       "<IPython.core.display.Javascript object>"
      ]
     },
     "metadata": {},
     "output_type": "display_data"
    },
    {
     "data": {
      "text/markdown": [
       "<span style=\"color:#33cc33\">Correct</span>"
      ],
      "text/plain": [
       "Correct"
      ]
     },
     "metadata": {},
     "output_type": "display_data"
    }
   ],
   "source": [
    "sorted_varieties = price_extremes.sort_values(by=[\"min\", \"max\"], ascending=False)\n",
    "\n",
    "# Check your answer\n",
    "q4.check()"
   ]
  },
  {
   "cell_type": "code",
   "execution_count": 9,
   "id": "8d89a7c8",
   "metadata": {
    "execution": {
     "iopub.execute_input": "2025-01-07T23:11:56.526722Z",
     "iopub.status.busy": "2025-01-07T23:11:56.526285Z",
     "iopub.status.idle": "2025-01-07T23:11:56.530984Z",
     "shell.execute_reply": "2025-01-07T23:11:56.529731Z"
    },
    "papermill": {
     "duration": 0.015981,
     "end_time": "2025-01-07T23:11:56.533165",
     "exception": false,
     "start_time": "2025-01-07T23:11:56.517184",
     "status": "completed"
    },
    "tags": []
   },
   "outputs": [],
   "source": [
    "#q4.hint()\n",
    "#q4.solution()"
   ]
  },
  {
   "cell_type": "markdown",
   "id": "d6153075",
   "metadata": {
    "papermill": {
     "duration": 0.006182,
     "end_time": "2025-01-07T23:11:56.546009",
     "exception": false,
     "start_time": "2025-01-07T23:11:56.539827",
     "status": "completed"
    },
    "tags": []
   },
   "source": [
    "## 5.\n",
    "Create a `Series` whose index is reviewers and whose values is the average review score given out by that reviewer. Hint: you will need the `taster_name` and `points` columns."
   ]
  },
  {
   "cell_type": "code",
   "execution_count": 10,
   "id": "4bbc7faa",
   "metadata": {
    "execution": {
     "iopub.execute_input": "2025-01-07T23:11:56.561056Z",
     "iopub.status.busy": "2025-01-07T23:11:56.560618Z",
     "iopub.status.idle": "2025-01-07T23:11:56.580966Z",
     "shell.execute_reply": "2025-01-07T23:11:56.579429Z"
    },
    "papermill": {
     "duration": 0.030276,
     "end_time": "2025-01-07T23:11:56.583350",
     "exception": false,
     "start_time": "2025-01-07T23:11:56.553074",
     "status": "completed"
    },
    "tags": []
   },
   "outputs": [
    {
     "data": {
      "application/javascript": [
       "parent.postMessage({\"jupyterEvent\": \"custom.exercise_interaction\", \"data\": {\"outcomeType\": 1, \"valueTowardsCompletion\": 0.16666666666666666, \"interactionType\": 1, \"questionType\": 1, \"questionId\": \"5_ReviewerMeanRatings\", \"learnToolsVersion\": \"0.3.4\", \"failureMessage\": \"\", \"exceptionClass\": \"\", \"trace\": \"\"}}, \"*\")"
      ],
      "text/plain": [
       "<IPython.core.display.Javascript object>"
      ]
     },
     "metadata": {},
     "output_type": "display_data"
    },
    {
     "data": {
      "text/markdown": [
       "<span style=\"color:#33cc33\">Correct</span>"
      ],
      "text/plain": [
       "Correct"
      ]
     },
     "metadata": {},
     "output_type": "display_data"
    }
   ],
   "source": [
    "reviewer_mean_ratings = reviews.groupby(\"taster_name\").points.mean()\n",
    "\n",
    "# Check your answer\n",
    "q5.check()"
   ]
  },
  {
   "cell_type": "code",
   "execution_count": 11,
   "id": "ce8ac8ce",
   "metadata": {
    "execution": {
     "iopub.execute_input": "2025-01-07T23:11:56.599026Z",
     "iopub.status.busy": "2025-01-07T23:11:56.598467Z",
     "iopub.status.idle": "2025-01-07T23:11:56.603096Z",
     "shell.execute_reply": "2025-01-07T23:11:56.601811Z"
    },
    "papermill": {
     "duration": 0.014825,
     "end_time": "2025-01-07T23:11:56.605050",
     "exception": false,
     "start_time": "2025-01-07T23:11:56.590225",
     "status": "completed"
    },
    "tags": []
   },
   "outputs": [],
   "source": [
    "#q5.hint()\n",
    "#q5.solution()"
   ]
  },
  {
   "cell_type": "markdown",
   "id": "fdd35df1",
   "metadata": {
    "papermill": {
     "duration": 0.00629,
     "end_time": "2025-01-07T23:11:56.618299",
     "exception": false,
     "start_time": "2025-01-07T23:11:56.612009",
     "status": "completed"
    },
    "tags": []
   },
   "source": [
    "Are there significant differences in the average scores assigned by the various reviewers? Run the cell below to use the `describe()` method to see a summary of the range of values."
   ]
  },
  {
   "cell_type": "code",
   "execution_count": 12,
   "id": "bde6f4df",
   "metadata": {
    "execution": {
     "iopub.execute_input": "2025-01-07T23:11:56.632914Z",
     "iopub.status.busy": "2025-01-07T23:11:56.632522Z",
     "iopub.status.idle": "2025-01-07T23:11:56.644872Z",
     "shell.execute_reply": "2025-01-07T23:11:56.643443Z"
    },
    "papermill": {
     "duration": 0.022243,
     "end_time": "2025-01-07T23:11:56.647114",
     "exception": false,
     "start_time": "2025-01-07T23:11:56.624871",
     "status": "completed"
    },
    "tags": []
   },
   "outputs": [
    {
     "data": {
      "text/plain": [
       "count    19.000000\n",
       "mean     88.233026\n",
       "std       1.243610\n",
       "min      85.855422\n",
       "25%      87.323501\n",
       "50%      88.536235\n",
       "75%      88.975256\n",
       "max      90.562551\n",
       "Name: points, dtype: float64"
      ]
     },
     "execution_count": 12,
     "metadata": {},
     "output_type": "execute_result"
    }
   ],
   "source": [
    "reviewer_mean_ratings.describe()"
   ]
  },
  {
   "cell_type": "markdown",
   "id": "83b23eae",
   "metadata": {
    "papermill": {
     "duration": 0.006498,
     "end_time": "2025-01-07T23:11:56.660669",
     "exception": false,
     "start_time": "2025-01-07T23:11:56.654171",
     "status": "completed"
    },
    "tags": []
   },
   "source": [
    "## 6.\n",
    "What combination of countries and varieties are most common? Create a `Series` whose index is a `MultiIndex`of `{country, variety}` pairs. For example, a pinot noir produced in the US should map to `{\"US\", \"Pinot Noir\"}`. Sort the values in the `Series` in descending order based on wine count."
   ]
  },
  {
   "cell_type": "code",
   "execution_count": 13,
   "id": "d83b5904",
   "metadata": {
    "execution": {
     "iopub.execute_input": "2025-01-07T23:11:56.676853Z",
     "iopub.status.busy": "2025-01-07T23:11:56.676465Z",
     "iopub.status.idle": "2025-01-07T23:11:56.710555Z",
     "shell.execute_reply": "2025-01-07T23:11:56.708999Z"
    },
    "papermill": {
     "duration": 0.044418,
     "end_time": "2025-01-07T23:11:56.712734",
     "exception": false,
     "start_time": "2025-01-07T23:11:56.668316",
     "status": "completed"
    },
    "tags": []
   },
   "outputs": [
    {
     "data": {
      "application/javascript": [
       "parent.postMessage({\"jupyterEvent\": \"custom.exercise_interaction\", \"data\": {\"outcomeType\": 1, \"valueTowardsCompletion\": 0.16666666666666666, \"interactionType\": 1, \"questionType\": 1, \"questionId\": \"6_GroupbyCountryVariety\", \"learnToolsVersion\": \"0.3.4\", \"failureMessage\": \"\", \"exceptionClass\": \"\", \"trace\": \"\"}}, \"*\")"
      ],
      "text/plain": [
       "<IPython.core.display.Javascript object>"
      ]
     },
     "metadata": {},
     "output_type": "display_data"
    },
    {
     "data": {
      "text/markdown": [
       "<span style=\"color:#33cc33\">Correct</span>"
      ],
      "text/plain": [
       "Correct"
      ]
     },
     "metadata": {},
     "output_type": "display_data"
    }
   ],
   "source": [
    "country_variety_counts = reviews.groupby([\"country\", \"variety\"]).size().sort_values(ascending=False)\n",
    "\n",
    "# Check your answer\n",
    "q6.check()"
   ]
  },
  {
   "cell_type": "code",
   "execution_count": 14,
   "id": "cb364b9b",
   "metadata": {
    "execution": {
     "iopub.execute_input": "2025-01-07T23:11:56.729614Z",
     "iopub.status.busy": "2025-01-07T23:11:56.729216Z",
     "iopub.status.idle": "2025-01-07T23:11:56.733684Z",
     "shell.execute_reply": "2025-01-07T23:11:56.732200Z"
    },
    "papermill": {
     "duration": 0.016178,
     "end_time": "2025-01-07T23:11:56.736179",
     "exception": false,
     "start_time": "2025-01-07T23:11:56.720001",
     "status": "completed"
    },
    "tags": []
   },
   "outputs": [],
   "source": [
    "#q6.hint()\n",
    "#q6.solution()"
   ]
  },
  {
   "cell_type": "markdown",
   "id": "1db61b2c",
   "metadata": {
    "papermill": {
     "duration": 0.006902,
     "end_time": "2025-01-07T23:11:56.750645",
     "exception": false,
     "start_time": "2025-01-07T23:11:56.743743",
     "status": "completed"
    },
    "tags": []
   },
   "source": [
    "# Keep going\n",
    "\n",
    "Move on to the [**data types and missing data**](https://www.kaggle.com/residentmario/data-types-and-missing-values)."
   ]
  },
  {
   "cell_type": "markdown",
   "id": "94ad3314",
   "metadata": {
    "papermill": {
     "duration": 0.006702,
     "end_time": "2025-01-07T23:11:56.764256",
     "exception": false,
     "start_time": "2025-01-07T23:11:56.757554",
     "status": "completed"
    },
    "tags": []
   },
   "source": [
    "---\n",
    "\n",
    "\n",
    "\n",
    "\n",
    "*Have questions or comments? Visit the [course discussion forum](https://www.kaggle.com/learn/pandas/discussion) to chat with other learners.*"
   ]
  }
 ],
 "metadata": {
  "kaggle": {
   "accelerator": "none",
   "dataSources": [
    {
     "datasetId": 655,
     "sourceId": 1252,
     "sourceType": "datasetVersion"
    },
    {
     "datasetId": 2321,
     "sourceId": 3919,
     "sourceType": "datasetVersion"
    },
    {
     "datasetId": 2894,
     "sourceId": 4877,
     "sourceType": "datasetVersion"
    },
    {
     "datasetId": 3491,
     "sourceId": 5624,
     "sourceType": "datasetVersion"
    },
    {
     "datasetId": 1442,
     "sourceId": 8172,
     "sourceType": "datasetVersion"
    },
    {
     "datasetId": 9366,
     "sourceId": 13206,
     "sourceType": "datasetVersion"
    },
    {
     "datasetId": 179555,
     "sourceId": 403916,
     "sourceType": "datasetVersion"
    },
    {
     "datasetId": 4549,
     "sourceId": 466349,
     "sourceType": "datasetVersion"
    },
    {
     "datasetId": 2478,
     "sourceId": 1151655,
     "sourceType": "datasetVersion"
    },
    {
     "datasetId": 10128,
     "sourceId": 5438389,
     "sourceType": "datasetVersion"
    }
   ],
   "isGpuEnabled": false,
   "isInternetEnabled": false,
   "language": "python",
   "sourceType": "notebook"
  },
  "kernelspec": {
   "display_name": "Python 3",
   "language": "python",
   "name": "python3"
  },
  "language_info": {
   "codemirror_mode": {
    "name": "ipython",
    "version": 3
   },
   "file_extension": ".py",
   "mimetype": "text/x-python",
   "name": "python",
   "nbconvert_exporter": "python",
   "pygments_lexer": "ipython3",
   "version": "3.10.12"
  },
  "papermill": {
   "default_parameters": {},
   "duration": 7.324044,
   "end_time": "2025-01-07T23:11:57.394346",
   "environment_variables": {},
   "exception": null,
   "input_path": "__notebook__.ipynb",
   "output_path": "__notebook__.ipynb",
   "parameters": {},
   "start_time": "2025-01-07T23:11:50.070302",
   "version": "2.6.0"
  }
 },
 "nbformat": 4,
 "nbformat_minor": 5
}
