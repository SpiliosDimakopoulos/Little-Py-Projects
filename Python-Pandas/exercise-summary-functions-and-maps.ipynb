{
 "cells": [
  {
   "cell_type": "markdown",
   "id": "a25a7813",
   "metadata": {
    "papermill": {
     "duration": 0.00556,
     "end_time": "2025-01-07T04:28:08.176530",
     "exception": false,
     "start_time": "2025-01-07T04:28:08.170970",
     "status": "completed"
    },
    "tags": []
   },
   "source": [
    "**This notebook is an exercise in the [Pandas](https://www.kaggle.com/learn/pandas) course.  You can reference the tutorial at [this link](https://www.kaggle.com/residentmario/summary-functions-and-maps).**\n",
    "\n",
    "---\n"
   ]
  },
  {
   "cell_type": "markdown",
   "id": "06ddfa5b",
   "metadata": {
    "papermill": {
     "duration": 0.00485,
     "end_time": "2025-01-07T04:28:08.186443",
     "exception": false,
     "start_time": "2025-01-07T04:28:08.181593",
     "status": "completed"
    },
    "tags": []
   },
   "source": [
    "# Introduction\n",
    "\n",
    "Now you are ready to get a deeper understanding of your data.\n",
    "\n",
    "Run the following cell to load your data and some utility functions (including code to check your answers)."
   ]
  },
  {
   "cell_type": "code",
   "execution_count": 1,
   "id": "60790d87",
   "metadata": {
    "execution": {
     "iopub.execute_input": "2025-01-07T04:28:08.196869Z",
     "iopub.status.busy": "2025-01-07T04:28:08.196520Z",
     "iopub.status.idle": "2025-01-07T04:28:14.340090Z",
     "shell.execute_reply": "2025-01-07T04:28:14.338998Z"
    },
    "papermill": {
     "duration": 6.150683,
     "end_time": "2025-01-07T04:28:14.341710",
     "exception": false,
     "start_time": "2025-01-07T04:28:08.191027",
     "status": "completed"
    },
    "tags": []
   },
   "outputs": [
    {
     "name": "stdout",
     "output_type": "stream",
     "text": [
      "Setup complete.\n"
     ]
    },
    {
     "data": {
      "text/html": [
       "<div>\n",
       "<style scoped>\n",
       "    .dataframe tbody tr th:only-of-type {\n",
       "        vertical-align: middle;\n",
       "    }\n",
       "\n",
       "    .dataframe tbody tr th {\n",
       "        vertical-align: top;\n",
       "    }\n",
       "\n",
       "    .dataframe thead th {\n",
       "        text-align: right;\n",
       "    }\n",
       "</style>\n",
       "<table border=\"1\" class=\"dataframe\">\n",
       "  <thead>\n",
       "    <tr style=\"text-align: right;\">\n",
       "      <th></th>\n",
       "      <th>country</th>\n",
       "      <th>description</th>\n",
       "      <th>designation</th>\n",
       "      <th>points</th>\n",
       "      <th>price</th>\n",
       "      <th>province</th>\n",
       "      <th>region_1</th>\n",
       "      <th>region_2</th>\n",
       "      <th>taster_name</th>\n",
       "      <th>taster_twitter_handle</th>\n",
       "      <th>title</th>\n",
       "      <th>variety</th>\n",
       "      <th>winery</th>\n",
       "    </tr>\n",
       "  </thead>\n",
       "  <tbody>\n",
       "    <tr>\n",
       "      <th>0</th>\n",
       "      <td>Italy</td>\n",
       "      <td>Aromas include tropical fruit, broom, brimston...</td>\n",
       "      <td>Vulkà Bianco</td>\n",
       "      <td>87</td>\n",
       "      <td>NaN</td>\n",
       "      <td>Sicily &amp; Sardinia</td>\n",
       "      <td>Etna</td>\n",
       "      <td>NaN</td>\n",
       "      <td>Kerin O’Keefe</td>\n",
       "      <td>@kerinokeefe</td>\n",
       "      <td>Nicosia 2013 Vulkà Bianco  (Etna)</td>\n",
       "      <td>White Blend</td>\n",
       "      <td>Nicosia</td>\n",
       "    </tr>\n",
       "    <tr>\n",
       "      <th>1</th>\n",
       "      <td>Portugal</td>\n",
       "      <td>This is ripe and fruity, a wine that is smooth...</td>\n",
       "      <td>Avidagos</td>\n",
       "      <td>87</td>\n",
       "      <td>15.0</td>\n",
       "      <td>Douro</td>\n",
       "      <td>NaN</td>\n",
       "      <td>NaN</td>\n",
       "      <td>Roger Voss</td>\n",
       "      <td>@vossroger</td>\n",
       "      <td>Quinta dos Avidagos 2011 Avidagos Red (Douro)</td>\n",
       "      <td>Portuguese Red</td>\n",
       "      <td>Quinta dos Avidagos</td>\n",
       "    </tr>\n",
       "    <tr>\n",
       "      <th>2</th>\n",
       "      <td>US</td>\n",
       "      <td>Tart and snappy, the flavors of lime flesh and...</td>\n",
       "      <td>NaN</td>\n",
       "      <td>87</td>\n",
       "      <td>14.0</td>\n",
       "      <td>Oregon</td>\n",
       "      <td>Willamette Valley</td>\n",
       "      <td>Willamette Valley</td>\n",
       "      <td>Paul Gregutt</td>\n",
       "      <td>@paulgwine</td>\n",
       "      <td>Rainstorm 2013 Pinot Gris (Willamette Valley)</td>\n",
       "      <td>Pinot Gris</td>\n",
       "      <td>Rainstorm</td>\n",
       "    </tr>\n",
       "    <tr>\n",
       "      <th>3</th>\n",
       "      <td>US</td>\n",
       "      <td>Pineapple rind, lemon pith and orange blossom ...</td>\n",
       "      <td>Reserve Late Harvest</td>\n",
       "      <td>87</td>\n",
       "      <td>13.0</td>\n",
       "      <td>Michigan</td>\n",
       "      <td>Lake Michigan Shore</td>\n",
       "      <td>NaN</td>\n",
       "      <td>Alexander Peartree</td>\n",
       "      <td>NaN</td>\n",
       "      <td>St. Julian 2013 Reserve Late Harvest Riesling ...</td>\n",
       "      <td>Riesling</td>\n",
       "      <td>St. Julian</td>\n",
       "    </tr>\n",
       "    <tr>\n",
       "      <th>4</th>\n",
       "      <td>US</td>\n",
       "      <td>Much like the regular bottling from 2012, this...</td>\n",
       "      <td>Vintner's Reserve Wild Child Block</td>\n",
       "      <td>87</td>\n",
       "      <td>65.0</td>\n",
       "      <td>Oregon</td>\n",
       "      <td>Willamette Valley</td>\n",
       "      <td>Willamette Valley</td>\n",
       "      <td>Paul Gregutt</td>\n",
       "      <td>@paulgwine</td>\n",
       "      <td>Sweet Cheeks 2012 Vintner's Reserve Wild Child...</td>\n",
       "      <td>Pinot Noir</td>\n",
       "      <td>Sweet Cheeks</td>\n",
       "    </tr>\n",
       "  </tbody>\n",
       "</table>\n",
       "</div>"
      ],
      "text/plain": [
       "    country                                        description  \\\n",
       "0     Italy  Aromas include tropical fruit, broom, brimston...   \n",
       "1  Portugal  This is ripe and fruity, a wine that is smooth...   \n",
       "2        US  Tart and snappy, the flavors of lime flesh and...   \n",
       "3        US  Pineapple rind, lemon pith and orange blossom ...   \n",
       "4        US  Much like the regular bottling from 2012, this...   \n",
       "\n",
       "                          designation  points  price           province  \\\n",
       "0                        Vulkà Bianco      87    NaN  Sicily & Sardinia   \n",
       "1                            Avidagos      87   15.0              Douro   \n",
       "2                                 NaN      87   14.0             Oregon   \n",
       "3                Reserve Late Harvest      87   13.0           Michigan   \n",
       "4  Vintner's Reserve Wild Child Block      87   65.0             Oregon   \n",
       "\n",
       "              region_1           region_2         taster_name  \\\n",
       "0                 Etna                NaN       Kerin O’Keefe   \n",
       "1                  NaN                NaN          Roger Voss   \n",
       "2    Willamette Valley  Willamette Valley        Paul Gregutt   \n",
       "3  Lake Michigan Shore                NaN  Alexander Peartree   \n",
       "4    Willamette Valley  Willamette Valley        Paul Gregutt   \n",
       "\n",
       "  taster_twitter_handle                                              title  \\\n",
       "0          @kerinokeefe                  Nicosia 2013 Vulkà Bianco  (Etna)   \n",
       "1            @vossroger      Quinta dos Avidagos 2011 Avidagos Red (Douro)   \n",
       "2           @paulgwine       Rainstorm 2013 Pinot Gris (Willamette Valley)   \n",
       "3                   NaN  St. Julian 2013 Reserve Late Harvest Riesling ...   \n",
       "4           @paulgwine   Sweet Cheeks 2012 Vintner's Reserve Wild Child...   \n",
       "\n",
       "          variety               winery  \n",
       "0     White Blend              Nicosia  \n",
       "1  Portuguese Red  Quinta dos Avidagos  \n",
       "2      Pinot Gris            Rainstorm  \n",
       "3        Riesling           St. Julian  \n",
       "4      Pinot Noir         Sweet Cheeks  "
      ]
     },
     "execution_count": 1,
     "metadata": {},
     "output_type": "execute_result"
    }
   ],
   "source": [
    "import pandas as pd\n",
    "pd.set_option(\"display.max_rows\", 5)\n",
    "reviews = pd.read_csv(\"../input/wine-reviews/winemag-data-130k-v2.csv\", index_col=0)\n",
    "\n",
    "from learntools.core import binder; binder.bind(globals())\n",
    "from learntools.pandas.summary_functions_and_maps import *\n",
    "print(\"Setup complete.\")\n",
    "\n",
    "reviews.head()"
   ]
  },
  {
   "cell_type": "markdown",
   "id": "9465e271",
   "metadata": {
    "papermill": {
     "duration": 0.005027,
     "end_time": "2025-01-07T04:28:14.352308",
     "exception": false,
     "start_time": "2025-01-07T04:28:14.347281",
     "status": "completed"
    },
    "tags": []
   },
   "source": [
    "# Exercises"
   ]
  },
  {
   "cell_type": "markdown",
   "id": "90898db6",
   "metadata": {
    "papermill": {
     "duration": 0.004864,
     "end_time": "2025-01-07T04:28:14.362421",
     "exception": false,
     "start_time": "2025-01-07T04:28:14.357557",
     "status": "completed"
    },
    "tags": []
   },
   "source": [
    "## 1.\n",
    "\n",
    "What is the median of the `points` column in the `reviews` DataFrame?"
   ]
  },
  {
   "cell_type": "code",
   "execution_count": 2,
   "id": "2eca25e4",
   "metadata": {
    "execution": {
     "iopub.execute_input": "2025-01-07T04:28:14.373909Z",
     "iopub.status.busy": "2025-01-07T04:28:14.373530Z",
     "iopub.status.idle": "2025-01-07T04:28:14.382587Z",
     "shell.execute_reply": "2025-01-07T04:28:14.381777Z"
    },
    "papermill": {
     "duration": 0.016724,
     "end_time": "2025-01-07T04:28:14.384173",
     "exception": false,
     "start_time": "2025-01-07T04:28:14.367449",
     "status": "completed"
    },
    "tags": []
   },
   "outputs": [
    {
     "data": {
      "application/javascript": [
       "parent.postMessage({\"jupyterEvent\": \"custom.exercise_interaction\", \"data\": {\"outcomeType\": 1, \"valueTowardsCompletion\": 0.14285714285714285, \"interactionType\": 1, \"questionType\": 1, \"questionId\": \"1_MedianPoints\", \"learnToolsVersion\": \"0.3.4\", \"failureMessage\": \"\", \"exceptionClass\": \"\", \"trace\": \"\"}}, \"*\")"
      ],
      "text/plain": [
       "<IPython.core.display.Javascript object>"
      ]
     },
     "metadata": {},
     "output_type": "display_data"
    },
    {
     "data": {
      "text/markdown": [
       "<span style=\"color:#33cc33\">Correct</span>"
      ],
      "text/plain": [
       "Correct"
      ]
     },
     "metadata": {},
     "output_type": "display_data"
    }
   ],
   "source": [
    "median_points = reviews[\"points\"].median()\n",
    "\n",
    "# Check your answer\n",
    "q1.check()"
   ]
  },
  {
   "cell_type": "code",
   "execution_count": 3,
   "id": "5f322716",
   "metadata": {
    "execution": {
     "iopub.execute_input": "2025-01-07T04:28:14.396191Z",
     "iopub.status.busy": "2025-01-07T04:28:14.395831Z",
     "iopub.status.idle": "2025-01-07T04:28:14.399409Z",
     "shell.execute_reply": "2025-01-07T04:28:14.398450Z"
    },
    "papermill": {
     "duration": 0.011226,
     "end_time": "2025-01-07T04:28:14.400905",
     "exception": false,
     "start_time": "2025-01-07T04:28:14.389679",
     "status": "completed"
    },
    "tags": []
   },
   "outputs": [],
   "source": [
    "#q1.hint()\n",
    "#q1.solution()"
   ]
  },
  {
   "cell_type": "markdown",
   "id": "bdefabf7",
   "metadata": {
    "papermill": {
     "duration": 0.005247,
     "end_time": "2025-01-07T04:28:14.412105",
     "exception": false,
     "start_time": "2025-01-07T04:28:14.406858",
     "status": "completed"
    },
    "tags": []
   },
   "source": [
    "## 2. \n",
    "What countries are represented in the dataset? (Your answer should not include any duplicates.)"
   ]
  },
  {
   "cell_type": "code",
   "execution_count": 4,
   "id": "1a16d2fd",
   "metadata": {
    "execution": {
     "iopub.execute_input": "2025-01-07T04:28:14.424176Z",
     "iopub.status.busy": "2025-01-07T04:28:14.423791Z",
     "iopub.status.idle": "2025-01-07T04:28:14.436270Z",
     "shell.execute_reply": "2025-01-07T04:28:14.435403Z"
    },
    "papermill": {
     "duration": 0.020285,
     "end_time": "2025-01-07T04:28:14.437836",
     "exception": false,
     "start_time": "2025-01-07T04:28:14.417551",
     "status": "completed"
    },
    "tags": []
   },
   "outputs": [
    {
     "data": {
      "application/javascript": [
       "parent.postMessage({\"jupyterEvent\": \"custom.exercise_interaction\", \"data\": {\"outcomeType\": 1, \"valueTowardsCompletion\": 0.14285714285714285, \"interactionType\": 1, \"questionType\": 2, \"questionId\": \"2_UniqueCountries\", \"learnToolsVersion\": \"0.3.4\", \"failureMessage\": \"\", \"exceptionClass\": \"\", \"trace\": \"\"}}, \"*\")"
      ],
      "text/plain": [
       "<IPython.core.display.Javascript object>"
      ]
     },
     "metadata": {},
     "output_type": "display_data"
    },
    {
     "data": {
      "text/markdown": [
       "<span style=\"color:#33cc33\">Correct</span>"
      ],
      "text/plain": [
       "Correct"
      ]
     },
     "metadata": {},
     "output_type": "display_data"
    }
   ],
   "source": [
    "countries = reviews.country.drop_duplicates()\n",
    "\n",
    "# Check your answer\n",
    "q2.check()"
   ]
  },
  {
   "cell_type": "code",
   "execution_count": 5,
   "id": "5499226b",
   "metadata": {
    "execution": {
     "iopub.execute_input": "2025-01-07T04:28:14.450524Z",
     "iopub.status.busy": "2025-01-07T04:28:14.450192Z",
     "iopub.status.idle": "2025-01-07T04:28:14.453592Z",
     "shell.execute_reply": "2025-01-07T04:28:14.452758Z"
    },
    "papermill": {
     "duration": 0.011584,
     "end_time": "2025-01-07T04:28:14.455193",
     "exception": false,
     "start_time": "2025-01-07T04:28:14.443609",
     "status": "completed"
    },
    "tags": []
   },
   "outputs": [],
   "source": [
    "#q2.hint()\n",
    "#q2.solution()"
   ]
  },
  {
   "cell_type": "markdown",
   "id": "3fe54af4",
   "metadata": {
    "papermill": {
     "duration": 0.006328,
     "end_time": "2025-01-07T04:28:14.467201",
     "exception": false,
     "start_time": "2025-01-07T04:28:14.460873",
     "status": "completed"
    },
    "tags": []
   },
   "source": [
    "## 3.\n",
    "How often does each country appear in the dataset? Create a Series `reviews_per_country` mapping countries to the count of reviews of wines from that country."
   ]
  },
  {
   "cell_type": "code",
   "execution_count": 6,
   "id": "0db116e8",
   "metadata": {
    "execution": {
     "iopub.execute_input": "2025-01-07T04:28:14.486449Z",
     "iopub.status.busy": "2025-01-07T04:28:14.486105Z",
     "iopub.status.idle": "2025-01-07T04:28:14.507646Z",
     "shell.execute_reply": "2025-01-07T04:28:14.506577Z"
    },
    "papermill": {
     "duration": 0.03405,
     "end_time": "2025-01-07T04:28:14.509271",
     "exception": false,
     "start_time": "2025-01-07T04:28:14.475221",
     "status": "completed"
    },
    "tags": []
   },
   "outputs": [
    {
     "data": {
      "application/javascript": [
       "parent.postMessage({\"jupyterEvent\": \"custom.exercise_interaction\", \"data\": {\"outcomeType\": 1, \"valueTowardsCompletion\": 0.14285714285714285, \"interactionType\": 1, \"questionType\": 1, \"questionId\": \"3_ReviewsPerCountry\", \"learnToolsVersion\": \"0.3.4\", \"failureMessage\": \"\", \"exceptionClass\": \"\", \"trace\": \"\"}}, \"*\")"
      ],
      "text/plain": [
       "<IPython.core.display.Javascript object>"
      ]
     },
     "metadata": {},
     "output_type": "display_data"
    },
    {
     "data": {
      "text/markdown": [
       "<span style=\"color:#33cc33\">Correct</span>"
      ],
      "text/plain": [
       "Correct"
      ]
     },
     "metadata": {},
     "output_type": "display_data"
    }
   ],
   "source": [
    "reviews_per_country = reviews['country'].value_counts()\n",
    "\n",
    "\n",
    "# Check your answer\n",
    "q3.check()"
   ]
  },
  {
   "cell_type": "code",
   "execution_count": 7,
   "id": "678dd077",
   "metadata": {
    "execution": {
     "iopub.execute_input": "2025-01-07T04:28:14.523610Z",
     "iopub.status.busy": "2025-01-07T04:28:14.523180Z",
     "iopub.status.idle": "2025-01-07T04:28:14.527354Z",
     "shell.execute_reply": "2025-01-07T04:28:14.526195Z"
    },
    "papermill": {
     "duration": 0.013897,
     "end_time": "2025-01-07T04:28:14.529706",
     "exception": false,
     "start_time": "2025-01-07T04:28:14.515809",
     "status": "completed"
    },
    "tags": []
   },
   "outputs": [],
   "source": [
    "#q3.hint()\n",
    "#q3.solution()"
   ]
  },
  {
   "cell_type": "markdown",
   "id": "056d8be3",
   "metadata": {
    "papermill": {
     "duration": 0.005869,
     "end_time": "2025-01-07T04:28:14.541781",
     "exception": false,
     "start_time": "2025-01-07T04:28:14.535912",
     "status": "completed"
    },
    "tags": []
   },
   "source": [
    "## 4.\n",
    "Create variable `centered_price` containing a version of the `price` column with the mean price subtracted.\n",
    "\n",
    "(Note: this 'centering' transformation is a common preprocessing step before applying various machine learning algorithms.) "
   ]
  },
  {
   "cell_type": "code",
   "execution_count": 8,
   "id": "b5601843",
   "metadata": {
    "execution": {
     "iopub.execute_input": "2025-01-07T04:28:14.554346Z",
     "iopub.status.busy": "2025-01-07T04:28:14.554025Z",
     "iopub.status.idle": "2025-01-07T04:28:14.562330Z",
     "shell.execute_reply": "2025-01-07T04:28:14.561334Z"
    },
    "papermill": {
     "duration": 0.016374,
     "end_time": "2025-01-07T04:28:14.563813",
     "exception": false,
     "start_time": "2025-01-07T04:28:14.547439",
     "status": "completed"
    },
    "tags": []
   },
   "outputs": [
    {
     "data": {
      "application/javascript": [
       "parent.postMessage({\"jupyterEvent\": \"custom.exercise_interaction\", \"data\": {\"outcomeType\": 1, \"valueTowardsCompletion\": 0.14285714285714285, \"interactionType\": 1, \"questionType\": 1, \"questionId\": \"4_CenteredPrice\", \"learnToolsVersion\": \"0.3.4\", \"failureMessage\": \"\", \"exceptionClass\": \"\", \"trace\": \"\"}}, \"*\")"
      ],
      "text/plain": [
       "<IPython.core.display.Javascript object>"
      ]
     },
     "metadata": {},
     "output_type": "display_data"
    },
    {
     "data": {
      "text/markdown": [
       "<span style=\"color:#33cc33\">Correct</span>"
      ],
      "text/plain": [
       "Correct"
      ]
     },
     "metadata": {},
     "output_type": "display_data"
    }
   ],
   "source": [
    "mean_price = reviews[\"price\"].mean()\n",
    "centered_price = reviews[\"price\"] - mean_price\n",
    "# Check your answer\n",
    "q4.check()"
   ]
  },
  {
   "cell_type": "code",
   "execution_count": 9,
   "id": "ffddb02c",
   "metadata": {
    "execution": {
     "iopub.execute_input": "2025-01-07T04:28:14.577909Z",
     "iopub.status.busy": "2025-01-07T04:28:14.577600Z",
     "iopub.status.idle": "2025-01-07T04:28:14.580905Z",
     "shell.execute_reply": "2025-01-07T04:28:14.580115Z"
    },
    "papermill": {
     "duration": 0.011848,
     "end_time": "2025-01-07T04:28:14.582622",
     "exception": false,
     "start_time": "2025-01-07T04:28:14.570774",
     "status": "completed"
    },
    "tags": []
   },
   "outputs": [],
   "source": [
    "#q4.hint()\n",
    "#q4.solution()"
   ]
  },
  {
   "cell_type": "markdown",
   "id": "480d7dff",
   "metadata": {
    "papermill": {
     "duration": 0.00586,
     "end_time": "2025-01-07T04:28:14.594685",
     "exception": false,
     "start_time": "2025-01-07T04:28:14.588825",
     "status": "completed"
    },
    "tags": []
   },
   "source": [
    "## 5.\n",
    "I'm an economical wine buyer. Which wine is the \"best bargain\"? Create a variable `bargain_wine` with the title of the wine with the highest points-to-price ratio in the dataset."
   ]
  },
  {
   "cell_type": "code",
   "execution_count": 10,
   "id": "c8844a20",
   "metadata": {
    "execution": {
     "iopub.execute_input": "2025-01-07T04:28:14.608382Z",
     "iopub.status.busy": "2025-01-07T04:28:14.607958Z",
     "iopub.status.idle": "2025-01-07T04:28:14.623022Z",
     "shell.execute_reply": "2025-01-07T04:28:14.621894Z"
    },
    "papermill": {
     "duration": 0.02431,
     "end_time": "2025-01-07T04:28:14.625141",
     "exception": false,
     "start_time": "2025-01-07T04:28:14.600831",
     "status": "completed"
    },
    "tags": []
   },
   "outputs": [
    {
     "data": {
      "application/javascript": [
       "parent.postMessage({\"jupyterEvent\": \"custom.exercise_interaction\", \"data\": {\"outcomeType\": 1, \"valueTowardsCompletion\": 0.14285714285714285, \"interactionType\": 1, \"questionType\": 2, \"questionId\": \"5_BargainWine\", \"learnToolsVersion\": \"0.3.4\", \"failureMessage\": \"\", \"exceptionClass\": \"\", \"trace\": \"\"}}, \"*\")"
      ],
      "text/plain": [
       "<IPython.core.display.Javascript object>"
      ]
     },
     "metadata": {},
     "output_type": "display_data"
    },
    {
     "data": {
      "text/markdown": [
       "<span style=\"color:#33cc33\">Correct</span>"
      ],
      "text/plain": [
       "Correct"
      ]
     },
     "metadata": {},
     "output_type": "display_data"
    }
   ],
   "source": [
    "reviews[\"point_to_price_ratio\"] = reviews[\"points\"] / reviews[\"price\"]\n",
    "bargain_wine = reviews.loc[reviews[\"point_to_price_ratio\"].idxmax(), \"title\"]\n",
    "\n",
    "# Check your answer\n",
    "q5.check()"
   ]
  },
  {
   "cell_type": "code",
   "execution_count": 11,
   "id": "cb6d60d6",
   "metadata": {
    "execution": {
     "iopub.execute_input": "2025-01-07T04:28:14.643073Z",
     "iopub.status.busy": "2025-01-07T04:28:14.642592Z",
     "iopub.status.idle": "2025-01-07T04:28:14.646957Z",
     "shell.execute_reply": "2025-01-07T04:28:14.645937Z"
    },
    "papermill": {
     "duration": 0.014522,
     "end_time": "2025-01-07T04:28:14.649220",
     "exception": false,
     "start_time": "2025-01-07T04:28:14.634698",
     "status": "completed"
    },
    "tags": []
   },
   "outputs": [],
   "source": [
    "#q5.hint()\n",
    "#q5.solution()"
   ]
  },
  {
   "cell_type": "markdown",
   "id": "53714585",
   "metadata": {
    "papermill": {
     "duration": 0.011965,
     "end_time": "2025-01-07T04:28:14.675294",
     "exception": false,
     "start_time": "2025-01-07T04:28:14.663329",
     "status": "completed"
    },
    "tags": []
   },
   "source": [
    "## 6.\n",
    "There are only so many words you can use when describing a bottle of wine. Is a wine more likely to be \"tropical\" or \"fruity\"? Create a Series `descriptor_counts` counting how many times each of these two words appears in the `description` column in the dataset. (For simplicity, let's ignore the capitalized versions of these words.)"
   ]
  },
  {
   "cell_type": "code",
   "execution_count": 12,
   "id": "aca3a89d",
   "metadata": {
    "execution": {
     "iopub.execute_input": "2025-01-07T04:28:14.698558Z",
     "iopub.status.busy": "2025-01-07T04:28:14.698042Z",
     "iopub.status.idle": "2025-01-07T04:28:14.849588Z",
     "shell.execute_reply": "2025-01-07T04:28:14.848636Z"
    },
    "papermill": {
     "duration": 0.16749,
     "end_time": "2025-01-07T04:28:14.851250",
     "exception": false,
     "start_time": "2025-01-07T04:28:14.683760",
     "status": "completed"
    },
    "tags": []
   },
   "outputs": [
    {
     "data": {
      "application/javascript": [
       "parent.postMessage({\"jupyterEvent\": \"custom.exercise_interaction\", \"data\": {\"outcomeType\": 1, \"valueTowardsCompletion\": 0.14285714285714285, \"interactionType\": 1, \"questionType\": 1, \"questionId\": \"6_DescriptorCounts\", \"learnToolsVersion\": \"0.3.4\", \"failureMessage\": \"\", \"exceptionClass\": \"\", \"trace\": \"\"}}, \"*\")"
      ],
      "text/plain": [
       "<IPython.core.display.Javascript object>"
      ]
     },
     "metadata": {},
     "output_type": "display_data"
    },
    {
     "data": {
      "text/markdown": [
       "<span style=\"color:#33cc33\">Correct</span>"
      ],
      "text/plain": [
       "Correct"
      ]
     },
     "metadata": {},
     "output_type": "display_data"
    }
   ],
   "source": [
    "n_trop = reviews.description.map(lambda desc: \"tropical\" in desc).sum()\n",
    "n_fruity = reviews.description.map(lambda desc: \"fruity\" in desc).sum()\n",
    "descriptor_counts = pd.Series([n_trop, n_fruity], index=['tropical', 'fruity'])\n",
    "# Check your answer\n",
    "q6.check()"
   ]
  },
  {
   "cell_type": "code",
   "execution_count": 13,
   "id": "5608c01a",
   "metadata": {
    "execution": {
     "iopub.execute_input": "2025-01-07T04:28:14.866099Z",
     "iopub.status.busy": "2025-01-07T04:28:14.865763Z",
     "iopub.status.idle": "2025-01-07T04:28:14.869034Z",
     "shell.execute_reply": "2025-01-07T04:28:14.868233Z"
    },
    "papermill": {
     "duration": 0.01243,
     "end_time": "2025-01-07T04:28:14.870538",
     "exception": false,
     "start_time": "2025-01-07T04:28:14.858108",
     "status": "completed"
    },
    "tags": []
   },
   "outputs": [],
   "source": [
    "#q6.hint()\n",
    "#q6.solution()"
   ]
  },
  {
   "cell_type": "markdown",
   "id": "b139bd8c",
   "metadata": {
    "papermill": {
     "duration": 0.006329,
     "end_time": "2025-01-07T04:28:14.883628",
     "exception": false,
     "start_time": "2025-01-07T04:28:14.877299",
     "status": "completed"
    },
    "tags": []
   },
   "source": [
    "## 7.\n",
    "We'd like to host these wine reviews on our website, but a rating system ranging from 80 to 100 points is too hard to understand - we'd like to translate them into simple star ratings. A score of 95 or higher counts as 3 stars, a score of at least 85 but less than 95 is 2 stars. Any other score is 1 star.\n",
    "\n",
    "Also, the Canadian Vintners Association bought a lot of ads on the site, so any wines from Canada should automatically get 3 stars, regardless of points.\n",
    "\n",
    "Create a series `star_ratings` with the number of stars corresponding to each review in the dataset."
   ]
  },
  {
   "cell_type": "code",
   "execution_count": 14,
   "id": "708f3e15",
   "metadata": {
    "execution": {
     "iopub.execute_input": "2025-01-07T04:28:14.898088Z",
     "iopub.status.busy": "2025-01-07T04:28:14.897671Z",
     "iopub.status.idle": "2025-01-07T04:28:17.698185Z",
     "shell.execute_reply": "2025-01-07T04:28:17.697144Z"
    },
    "papermill": {
     "duration": 2.809589,
     "end_time": "2025-01-07T04:28:17.699843",
     "exception": false,
     "start_time": "2025-01-07T04:28:14.890254",
     "status": "completed"
    },
    "tags": []
   },
   "outputs": [
    {
     "data": {
      "application/javascript": [
       "parent.postMessage({\"jupyterEvent\": \"custom.exercise_interaction\", \"data\": {\"outcomeType\": 1, \"valueTowardsCompletion\": 0.14285714285714285, \"interactionType\": 1, \"questionType\": 1, \"questionId\": \"7_StarRatings\", \"learnToolsVersion\": \"0.3.4\", \"failureMessage\": \"\", \"exceptionClass\": \"\", \"trace\": \"\"}}, \"*\")"
      ],
      "text/plain": [
       "<IPython.core.display.Javascript object>"
      ]
     },
     "metadata": {},
     "output_type": "display_data"
    },
    {
     "data": {
      "text/markdown": [
       "<span style=\"color:#33cc33\">Correct</span>"
      ],
      "text/plain": [
       "Correct"
      ]
     },
     "metadata": {},
     "output_type": "display_data"
    }
   ],
   "source": [
    "def pointsToStars(row):\n",
    "    if row.points >= 95:\n",
    "        return 3\n",
    "    elif row.points >= 85 and row.points < 95:\n",
    "        return 2\n",
    "    elif row.country == \"Canada\":\n",
    "        return 3\n",
    "    else:\n",
    "        return 1\n",
    "\n",
    "star_ratings = reviews.apply(pointsToStars, axis=1)\n",
    "\n",
    "# Check your answer\n",
    "q7.check()"
   ]
  },
  {
   "cell_type": "code",
   "execution_count": 15,
   "id": "b06e2003",
   "metadata": {
    "execution": {
     "iopub.execute_input": "2025-01-07T04:28:17.714608Z",
     "iopub.status.busy": "2025-01-07T04:28:17.714258Z",
     "iopub.status.idle": "2025-01-07T04:28:17.717766Z",
     "shell.execute_reply": "2025-01-07T04:28:17.716938Z"
    },
    "papermill": {
     "duration": 0.012576,
     "end_time": "2025-01-07T04:28:17.719243",
     "exception": false,
     "start_time": "2025-01-07T04:28:17.706667",
     "status": "completed"
    },
    "tags": []
   },
   "outputs": [],
   "source": [
    "#q7.hint()\n",
    "#q7.solution()"
   ]
  },
  {
   "cell_type": "markdown",
   "id": "337c1aa9",
   "metadata": {
    "papermill": {
     "duration": 0.006518,
     "end_time": "2025-01-07T04:28:17.732683",
     "exception": false,
     "start_time": "2025-01-07T04:28:17.726165",
     "status": "completed"
    },
    "tags": []
   },
   "source": [
    "# Keep going\n",
    "Continue to **[grouping and sorting](https://www.kaggle.com/residentmario/grouping-and-sorting)**."
   ]
  },
  {
   "cell_type": "markdown",
   "id": "764fdaaf",
   "metadata": {
    "papermill": {
     "duration": 0.006593,
     "end_time": "2025-01-07T04:28:17.746271",
     "exception": false,
     "start_time": "2025-01-07T04:28:17.739678",
     "status": "completed"
    },
    "tags": []
   },
   "source": [
    "---\n",
    "\n",
    "\n",
    "\n",
    "\n",
    "*Have questions or comments? Visit the [course discussion forum](https://www.kaggle.com/learn/pandas/discussion) to chat with other learners.*"
   ]
  }
 ],
 "metadata": {
  "kaggle": {
   "accelerator": "none",
   "dataSources": [
    {
     "datasetId": 655,
     "sourceId": 1252,
     "sourceType": "datasetVersion"
    },
    {
     "datasetId": 2321,
     "sourceId": 3919,
     "sourceType": "datasetVersion"
    },
    {
     "datasetId": 2894,
     "sourceId": 4877,
     "sourceType": "datasetVersion"
    },
    {
     "datasetId": 3491,
     "sourceId": 5624,
     "sourceType": "datasetVersion"
    },
    {
     "datasetId": 1442,
     "sourceId": 8172,
     "sourceType": "datasetVersion"
    },
    {
     "datasetId": 9366,
     "sourceId": 13206,
     "sourceType": "datasetVersion"
    },
    {
     "datasetId": 179555,
     "sourceId": 403916,
     "sourceType": "datasetVersion"
    },
    {
     "datasetId": 4549,
     "sourceId": 466349,
     "sourceType": "datasetVersion"
    },
    {
     "datasetId": 2478,
     "sourceId": 1151655,
     "sourceType": "datasetVersion"
    },
    {
     "datasetId": 10128,
     "sourceId": 5438389,
     "sourceType": "datasetVersion"
    }
   ],
   "isGpuEnabled": false,
   "isInternetEnabled": false,
   "language": "python",
   "sourceType": "notebook"
  },
  "kernelspec": {
   "display_name": "Python 3",
   "language": "python",
   "name": "python3"
  },
  "language_info": {
   "codemirror_mode": {
    "name": "ipython",
    "version": 3
   },
   "file_extension": ".py",
   "mimetype": "text/x-python",
   "name": "python",
   "nbconvert_exporter": "python",
   "pygments_lexer": "ipython3",
   "version": "3.10.12"
  },
  "papermill": {
   "default_parameters": {},
   "duration": 12.350794,
   "end_time": "2025-01-07T04:28:18.374302",
   "environment_variables": {},
   "exception": null,
   "input_path": "__notebook__.ipynb",
   "output_path": "__notebook__.ipynb",
   "parameters": {},
   "start_time": "2025-01-07T04:28:06.023508",
   "version": "2.6.0"
  }
 },
 "nbformat": 4,
 "nbformat_minor": 5
}
