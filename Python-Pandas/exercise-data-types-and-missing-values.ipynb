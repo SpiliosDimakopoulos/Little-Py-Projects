{
 "cells": [
  {
   "cell_type": "markdown",
   "id": "df8be24a",
   "metadata": {
    "papermill": {
     "duration": 0.004612,
     "end_time": "2025-01-07T23:22:58.991671",
     "exception": false,
     "start_time": "2025-01-07T23:22:58.987059",
     "status": "completed"
    },
    "tags": []
   },
   "source": [
    "**This notebook is an exercise in the [Pandas](https://www.kaggle.com/learn/pandas) course.  You can reference the tutorial at [this link](https://www.kaggle.com/residentmario/data-types-and-missing-values).**\n",
    "\n",
    "---\n"
   ]
  },
  {
   "cell_type": "markdown",
   "id": "27f28d84",
   "metadata": {
    "papermill": {
     "duration": 0.003569,
     "end_time": "2025-01-07T23:22:58.999492",
     "exception": false,
     "start_time": "2025-01-07T23:22:58.995923",
     "status": "completed"
    },
    "tags": []
   },
   "source": [
    "# Introduction\n",
    "\n",
    "Run the following cell to load your data and some utility functions."
   ]
  },
  {
   "cell_type": "code",
   "execution_count": 1,
   "id": "356e738b",
   "metadata": {
    "execution": {
     "iopub.execute_input": "2025-01-07T23:22:59.008707Z",
     "iopub.status.busy": "2025-01-07T23:22:59.008272Z",
     "iopub.status.idle": "2025-01-07T23:23:02.490543Z",
     "shell.execute_reply": "2025-01-07T23:23:02.489095Z"
    },
    "papermill": {
     "duration": 3.489233,
     "end_time": "2025-01-07T23:23:02.492779",
     "exception": false,
     "start_time": "2025-01-07T23:22:59.003546",
     "status": "completed"
    },
    "tags": []
   },
   "outputs": [
    {
     "name": "stdout",
     "output_type": "stream",
     "text": [
      "Setup complete.\n"
     ]
    }
   ],
   "source": [
    "import pandas as pd\n",
    "\n",
    "reviews = pd.read_csv(\"../input/wine-reviews/winemag-data-130k-v2.csv\", index_col=0)\n",
    "\n",
    "from learntools.core import binder; binder.bind(globals())\n",
    "from learntools.pandas.data_types_and_missing_data import *\n",
    "print(\"Setup complete.\")"
   ]
  },
  {
   "cell_type": "markdown",
   "id": "69f23a17",
   "metadata": {
    "papermill": {
     "duration": 0.003652,
     "end_time": "2025-01-07T23:23:02.500535",
     "exception": false,
     "start_time": "2025-01-07T23:23:02.496883",
     "status": "completed"
    },
    "tags": []
   },
   "source": [
    "# Exercises"
   ]
  },
  {
   "cell_type": "markdown",
   "id": "bc4eaa6c",
   "metadata": {
    "papermill": {
     "duration": 0.003421,
     "end_time": "2025-01-07T23:23:02.507657",
     "exception": false,
     "start_time": "2025-01-07T23:23:02.504236",
     "status": "completed"
    },
    "tags": []
   },
   "source": [
    "## 1. \n",
    "What is the data type of the `points` column in the dataset?"
   ]
  },
  {
   "cell_type": "code",
   "execution_count": 2,
   "id": "bea5cbb0",
   "metadata": {
    "execution": {
     "iopub.execute_input": "2025-01-07T23:23:02.516414Z",
     "iopub.status.busy": "2025-01-07T23:23:02.516066Z",
     "iopub.status.idle": "2025-01-07T23:23:02.525042Z",
     "shell.execute_reply": "2025-01-07T23:23:02.523914Z"
    },
    "papermill": {
     "duration": 0.015386,
     "end_time": "2025-01-07T23:23:02.526710",
     "exception": false,
     "start_time": "2025-01-07T23:23:02.511324",
     "status": "completed"
    },
    "tags": []
   },
   "outputs": [
    {
     "data": {
      "application/javascript": [
       "parent.postMessage({\"jupyterEvent\": \"custom.exercise_interaction\", \"data\": {\"outcomeType\": 1, \"valueTowardsCompletion\": 0.25, \"interactionType\": 1, \"questionType\": 1, \"questionId\": \"1_PointsDtype\", \"learnToolsVersion\": \"0.3.4\", \"failureMessage\": \"\", \"exceptionClass\": \"\", \"trace\": \"\"}}, \"*\")"
      ],
      "text/plain": [
       "<IPython.core.display.Javascript object>"
      ]
     },
     "metadata": {},
     "output_type": "display_data"
    },
    {
     "data": {
      "text/markdown": [
       "<span style=\"color:#33cc33\">Correct</span>"
      ],
      "text/plain": [
       "Correct"
      ]
     },
     "metadata": {},
     "output_type": "display_data"
    }
   ],
   "source": [
    "# Your code here\n",
    "dtype = reviews.points.dtype\n",
    "\n",
    "\n",
    "# Check your answer\n",
    "q1.check()"
   ]
  },
  {
   "cell_type": "code",
   "execution_count": 3,
   "id": "886aab51",
   "metadata": {
    "execution": {
     "iopub.execute_input": "2025-01-07T23:23:02.536314Z",
     "iopub.status.busy": "2025-01-07T23:23:02.535955Z",
     "iopub.status.idle": "2025-01-07T23:23:02.539948Z",
     "shell.execute_reply": "2025-01-07T23:23:02.538752Z"
    },
    "papermill": {
     "duration": 0.010719,
     "end_time": "2025-01-07T23:23:02.541605",
     "exception": false,
     "start_time": "2025-01-07T23:23:02.530886",
     "status": "completed"
    },
    "tags": []
   },
   "outputs": [],
   "source": [
    "#q1.hint()\n",
    "#q1.solution()"
   ]
  },
  {
   "cell_type": "markdown",
   "id": "17b4e6ec",
   "metadata": {
    "papermill": {
     "duration": 0.003945,
     "end_time": "2025-01-07T23:23:02.549826",
     "exception": false,
     "start_time": "2025-01-07T23:23:02.545881",
     "status": "completed"
    },
    "tags": []
   },
   "source": [
    "## 2. \n",
    "Create a Series from entries in the `points` column, but convert the entries to strings. Hint: strings are `str` in native Python."
   ]
  },
  {
   "cell_type": "code",
   "execution_count": 4,
   "id": "799bf74e",
   "metadata": {
    "execution": {
     "iopub.execute_input": "2025-01-07T23:23:02.559519Z",
     "iopub.status.busy": "2025-01-07T23:23:02.559134Z",
     "iopub.status.idle": "2025-01-07T23:23:02.620927Z",
     "shell.execute_reply": "2025-01-07T23:23:02.619891Z"
    },
    "papermill": {
     "duration": 0.068729,
     "end_time": "2025-01-07T23:23:02.622732",
     "exception": false,
     "start_time": "2025-01-07T23:23:02.554003",
     "status": "completed"
    },
    "tags": []
   },
   "outputs": [
    {
     "data": {
      "application/javascript": [
       "parent.postMessage({\"jupyterEvent\": \"custom.exercise_interaction\", \"data\": {\"outcomeType\": 1, \"valueTowardsCompletion\": 0.25, \"interactionType\": 1, \"questionType\": 1, \"questionId\": \"2_StrPoints\", \"learnToolsVersion\": \"0.3.4\", \"failureMessage\": \"\", \"exceptionClass\": \"\", \"trace\": \"\"}}, \"*\")"
      ],
      "text/plain": [
       "<IPython.core.display.Javascript object>"
      ]
     },
     "metadata": {},
     "output_type": "display_data"
    },
    {
     "data": {
      "text/markdown": [
       "<span style=\"color:#33cc33\">Correct</span>"
      ],
      "text/plain": [
       "Correct"
      ]
     },
     "metadata": {},
     "output_type": "display_data"
    }
   ],
   "source": [
    "point_strings = reviews.points.astype(str)\n",
    "\n",
    "# Check your answer\n",
    "q2.check()"
   ]
  },
  {
   "cell_type": "code",
   "execution_count": 5,
   "id": "a14bff74",
   "metadata": {
    "execution": {
     "iopub.execute_input": "2025-01-07T23:23:02.633065Z",
     "iopub.status.busy": "2025-01-07T23:23:02.632638Z",
     "iopub.status.idle": "2025-01-07T23:23:02.636759Z",
     "shell.execute_reply": "2025-01-07T23:23:02.635529Z"
    },
    "papermill": {
     "duration": 0.01132,
     "end_time": "2025-01-07T23:23:02.638499",
     "exception": false,
     "start_time": "2025-01-07T23:23:02.627179",
     "status": "completed"
    },
    "tags": []
   },
   "outputs": [],
   "source": [
    "#q2.hint()\n",
    "#q2.solution()"
   ]
  },
  {
   "cell_type": "markdown",
   "id": "c3f17811",
   "metadata": {
    "papermill": {
     "duration": 0.004055,
     "end_time": "2025-01-07T23:23:02.647199",
     "exception": false,
     "start_time": "2025-01-07T23:23:02.643144",
     "status": "completed"
    },
    "tags": []
   },
   "source": [
    "## 3.\n",
    "Sometimes the price column is null. How many reviews in the dataset are missing a price?"
   ]
  },
  {
   "cell_type": "code",
   "execution_count": 6,
   "id": "68f61919",
   "metadata": {
    "execution": {
     "iopub.execute_input": "2025-01-07T23:23:02.657191Z",
     "iopub.status.busy": "2025-01-07T23:23:02.656860Z",
     "iopub.status.idle": "2025-01-07T23:23:02.665568Z",
     "shell.execute_reply": "2025-01-07T23:23:02.664306Z"
    },
    "papermill": {
     "duration": 0.015582,
     "end_time": "2025-01-07T23:23:02.667205",
     "exception": false,
     "start_time": "2025-01-07T23:23:02.651623",
     "status": "completed"
    },
    "tags": []
   },
   "outputs": [
    {
     "data": {
      "application/javascript": [
       "parent.postMessage({\"jupyterEvent\": \"custom.exercise_interaction\", \"data\": {\"outcomeType\": 1, \"valueTowardsCompletion\": 0.25, \"interactionType\": 1, \"questionType\": 1, \"questionId\": \"3_CountMissingPrices\", \"learnToolsVersion\": \"0.3.4\", \"failureMessage\": \"\", \"exceptionClass\": \"\", \"trace\": \"\"}}, \"*\")"
      ],
      "text/plain": [
       "<IPython.core.display.Javascript object>"
      ]
     },
     "metadata": {},
     "output_type": "display_data"
    },
    {
     "data": {
      "text/markdown": [
       "<span style=\"color:#33cc33\">Correct</span>"
      ],
      "text/plain": [
       "Correct"
      ]
     },
     "metadata": {},
     "output_type": "display_data"
    }
   ],
   "source": [
    "n_missing_prices = reviews[\"price\"].isna().sum()\n",
    "# Check your answer\n",
    "q3.check()"
   ]
  },
  {
   "cell_type": "code",
   "execution_count": 7,
   "id": "93e39ba5",
   "metadata": {
    "execution": {
     "iopub.execute_input": "2025-01-07T23:23:02.678149Z",
     "iopub.status.busy": "2025-01-07T23:23:02.677774Z",
     "iopub.status.idle": "2025-01-07T23:23:02.681833Z",
     "shell.execute_reply": "2025-01-07T23:23:02.680742Z"
    },
    "papermill": {
     "duration": 0.011431,
     "end_time": "2025-01-07T23:23:02.683421",
     "exception": false,
     "start_time": "2025-01-07T23:23:02.671990",
     "status": "completed"
    },
    "tags": []
   },
   "outputs": [],
   "source": [
    "#q3.hint()\n",
    "#q3.solution()"
   ]
  },
  {
   "cell_type": "markdown",
   "id": "0480121a",
   "metadata": {
    "papermill": {
     "duration": 0.004581,
     "end_time": "2025-01-07T23:23:02.693689",
     "exception": false,
     "start_time": "2025-01-07T23:23:02.689108",
     "status": "completed"
    },
    "tags": []
   },
   "source": [
    "## 4.\n",
    "What are the most common wine-producing regions? Create a Series counting the number of times each value occurs in the `region_1` field. This field is often missing data, so replace missing values with `Unknown`. Sort in descending order.  Your output should look something like this:\n",
    "\n",
    "```\n",
    "Unknown                    21247\n",
    "Napa Valley                 4480\n",
    "                           ...  \n",
    "Bardolino Superiore            1\n",
    "Primitivo del Tarantino        1\n",
    "Name: region_1, Length: 1230, dtype: int64\n",
    "```"
   ]
  },
  {
   "cell_type": "code",
   "execution_count": 8,
   "id": "d262472c",
   "metadata": {
    "execution": {
     "iopub.execute_input": "2025-01-07T23:23:02.704272Z",
     "iopub.status.busy": "2025-01-07T23:23:02.703894Z",
     "iopub.status.idle": "2025-01-07T23:23:02.752811Z",
     "shell.execute_reply": "2025-01-07T23:23:02.751596Z"
    },
    "papermill": {
     "duration": 0.056266,
     "end_time": "2025-01-07T23:23:02.754598",
     "exception": false,
     "start_time": "2025-01-07T23:23:02.698332",
     "status": "completed"
    },
    "tags": []
   },
   "outputs": [
    {
     "data": {
      "application/javascript": [
       "parent.postMessage({\"jupyterEvent\": \"custom.exercise_interaction\", \"data\": {\"outcomeType\": 1, \"valueTowardsCompletion\": 0.25, \"interactionType\": 1, \"questionType\": 2, \"questionId\": \"4_ReviewsPerRegion\", \"learnToolsVersion\": \"0.3.4\", \"failureMessage\": \"\", \"exceptionClass\": \"\", \"trace\": \"\"}}, \"*\")"
      ],
      "text/plain": [
       "<IPython.core.display.Javascript object>"
      ]
     },
     "metadata": {},
     "output_type": "display_data"
    },
    {
     "data": {
      "text/markdown": [
       "<span style=\"color:#33cc33\">Correct</span>"
      ],
      "text/plain": [
       "Correct"
      ]
     },
     "metadata": {},
     "output_type": "display_data"
    }
   ],
   "source": [
    "reviews['region_1'] = reviews['region_1'].fillna('Unknown')\n",
    "reviews_per_region = reviews['region_1'].value_counts()\n",
    "\n",
    "# Check your answer\n",
    "q4.check()"
   ]
  },
  {
   "cell_type": "code",
   "execution_count": 9,
   "id": "cd605ec2",
   "metadata": {
    "execution": {
     "iopub.execute_input": "2025-01-07T23:23:02.766607Z",
     "iopub.status.busy": "2025-01-07T23:23:02.766218Z",
     "iopub.status.idle": "2025-01-07T23:23:02.770305Z",
     "shell.execute_reply": "2025-01-07T23:23:02.769181Z"
    },
    "papermill": {
     "duration": 0.012068,
     "end_time": "2025-01-07T23:23:02.772096",
     "exception": false,
     "start_time": "2025-01-07T23:23:02.760028",
     "status": "completed"
    },
    "tags": []
   },
   "outputs": [],
   "source": [
    "#q4.hint()\n",
    "#q4.solution()"
   ]
  },
  {
   "cell_type": "markdown",
   "id": "30ec179c",
   "metadata": {
    "papermill": {
     "duration": 0.004584,
     "end_time": "2025-01-07T23:23:02.782021",
     "exception": false,
     "start_time": "2025-01-07T23:23:02.777437",
     "status": "completed"
    },
    "tags": []
   },
   "source": [
    "# Keep going\n",
    "\n",
    "Move on to **[renaming and combining](https://www.kaggle.com/residentmario/renaming-and-combining)**."
   ]
  },
  {
   "cell_type": "markdown",
   "id": "8be50aa3",
   "metadata": {
    "papermill": {
     "duration": 0.005091,
     "end_time": "2025-01-07T23:23:02.791993",
     "exception": false,
     "start_time": "2025-01-07T23:23:02.786902",
     "status": "completed"
    },
    "tags": []
   },
   "source": [
    "---\n",
    "\n",
    "\n",
    "\n",
    "\n",
    "*Have questions or comments? Visit the [course discussion forum](https://www.kaggle.com/learn/pandas/discussion) to chat with other learners.*"
   ]
  }
 ],
 "metadata": {
  "kaggle": {
   "accelerator": "none",
   "dataSources": [
    {
     "datasetId": 655,
     "sourceId": 1252,
     "sourceType": "datasetVersion"
    },
    {
     "datasetId": 2321,
     "sourceId": 3919,
     "sourceType": "datasetVersion"
    },
    {
     "datasetId": 2894,
     "sourceId": 4877,
     "sourceType": "datasetVersion"
    },
    {
     "datasetId": 3491,
     "sourceId": 5624,
     "sourceType": "datasetVersion"
    },
    {
     "datasetId": 1442,
     "sourceId": 8172,
     "sourceType": "datasetVersion"
    },
    {
     "datasetId": 9366,
     "sourceId": 13206,
     "sourceType": "datasetVersion"
    },
    {
     "datasetId": 179555,
     "sourceId": 403916,
     "sourceType": "datasetVersion"
    },
    {
     "datasetId": 4549,
     "sourceId": 466349,
     "sourceType": "datasetVersion"
    },
    {
     "datasetId": 2478,
     "sourceId": 1151655,
     "sourceType": "datasetVersion"
    },
    {
     "datasetId": 10128,
     "sourceId": 5438389,
     "sourceType": "datasetVersion"
    }
   ],
   "isGpuEnabled": false,
   "isInternetEnabled": false,
   "language": "python",
   "sourceType": "notebook"
  },
  "kernelspec": {
   "display_name": "Python 3",
   "language": "python",
   "name": "python3"
  },
  "language_info": {
   "codemirror_mode": {
    "name": "ipython",
    "version": 3
   },
   "file_extension": ".py",
   "mimetype": "text/x-python",
   "name": "python",
   "nbconvert_exporter": "python",
   "pygments_lexer": "ipython3",
   "version": "3.10.12"
  },
  "papermill": {
   "default_parameters": {},
   "duration": 6.855596,
   "end_time": "2025-01-07T23:23:03.419711",
   "environment_variables": {},
   "exception": null,
   "input_path": "__notebook__.ipynb",
   "output_path": "__notebook__.ipynb",
   "parameters": {},
   "start_time": "2025-01-07T23:22:56.564115",
   "version": "2.6.0"
  }
 },
 "nbformat": 4,
 "nbformat_minor": 5
}
